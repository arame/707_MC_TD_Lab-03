{
 "cells": [
  {
   "cell_type": "markdown",
   "metadata": {},
   "source": [
    "# Exercise 1 - Modifying the environment\n",
    "\n",
    "We will make the problem slightly more complicated.\n",
    "\n",
    "The floor is now covered in ice! \n",
    "When an agent makes a movement, it might slip and end up in another cell close to it.\n",
    "The probability to arrive in the intended cell is 0.6, and the probability to end up in one of the 4 adjacent cells is 0.1.\n",
    "\n",
    "Similar as for Lab 02, you should create a new Dungeon by inheriting from the original Dungeon environment.\n",
    "Again, the step method will return the state instead of observations.\n",
    "And the step function should incorportate these slippery dynamics.\n",
    "\n",
    "When the agent slips, rewards accumulate! You could bang your head on the wall twice...\n"
   ]
  },
  {
   "cell_type": "code",
   "execution_count": 2,
   "metadata": {},
   "outputs": [],
   "source": [
    "from dungeon.dungeon import Dungeon\n",
    "import numpy as np\n",
    "\n",
    "class IceDungeon(Dungeon):\n",
    "    \n",
    "    def __init__(self, N):\n",
    "        \n",
    "        super().__init__(N)\n",
    "        \n",
    "        # In order to explicitely show that the way you represent states doesn't matter, \n",
    "        # we will assign a random index for each coordinate of the grid        \n",
    "        index_states = np.arange(0, N*N)\n",
    "        np.random.shuffle(index_states)\n",
    "        self.coord_to_index_state = index_states.reshape(N,N)    \n",
    "        \n",
    "    def step(self, action):\n",
    "        \n",
    "        ...\n",
    "    \n",
    "    def reset(self):\n",
    "        \n",
    "        super().reset()\n",
    "        \n",
    "        state = self.coord_to_index_state[ self.position_agent[0], self.position_agent[1]]\n",
    "        \n",
    "        return state\n",
    "        "
   ]
  },
  {
   "cell_type": "markdown",
   "metadata": {},
   "source": [
    "# Exercise 2 - Monte-carlo learning\n",
    "\n",
    "We will use a simple random policy function to evaluate the state values. \n",
    "\n",
    "First of all, create a random policy function that just picks random actions (check Lab 01).\n",
    "\n",
    "Then, implement a MC learning class that allows to learn the values based on full rollouts of the policy in the environment.\n",
    "\n",
    "Finally, you can generate rollouts of your policy in an environment, and update the values using MC-learning."
   ]
  },
  {
   "cell_type": "code",
   "execution_count": 3,
   "metadata": {},
   "outputs": [],
   "source": [
    "def random_policy(state):\n",
    "    ...\n",
    "    return ...\n",
    "    \n",
    "def MC_Learning():\n",
    "    \n",
    "    def __init__(self, N):\n",
    "        \n",
    "        self.values = ...\n",
    "    \n",
    "    def update_values(self, rollout):\n",
    "        ...\n",
    "        \n",
    "    def display_values(self):\n",
    "        ...\n",
    "        "
   ]
  },
  {
   "cell_type": "markdown",
   "metadata": {},
   "source": [
    "# Exercise 3: TD-learning\n",
    "\n",
    "We will now compare the values obtained by MC learning with values obtained with TD learning.\n",
    "\n",
    "Create a class that allows to update values every time a new state transition occurs.\n"
   ]
  },
  {
   "cell_type": "code",
   "execution_count": null,
   "metadata": {},
   "outputs": [],
   "source": [
    "def TD_Learning():\n",
    "    \n",
    "    def __init__(self, N):\n",
    "        \n",
    "        self.values = ...\n",
    "    \n",
    "    def update_values(self, s_current, reward_next, s_next):\n",
    "        ...\n",
    "        \n",
    "    def display_values(self):\n",
    "        ...\n",
    "        "
   ]
  }
 ],
 "metadata": {
  "kernelspec": {
   "display_name": "Python 3",
   "language": "python",
   "name": "python3"
  },
  "language_info": {
   "codemirror_mode": {
    "name": "ipython",
    "version": 3
   },
   "file_extension": ".py",
   "mimetype": "text/x-python",
   "name": "python",
   "nbconvert_exporter": "python",
   "pygments_lexer": "ipython3",
   "version": "3.8.5"
  }
 },
 "nbformat": 4,
 "nbformat_minor": 4
}
